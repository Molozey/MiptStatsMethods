{
 "cells": [
  {
   "cell_type": "code",
   "execution_count": 21,
   "id": "initial_id",
   "metadata": {
    "collapsed": true,
    "ExecuteTime": {
     "end_time": "2023-12-13T00:01:06.589543Z",
     "start_time": "2023-12-13T00:01:06.389026Z"
    }
   },
   "outputs": [],
   "source": [
    "import scipy.stats as sts\n",
    "import pandas as pd\n",
    "import numpy as np\n",
    "from statsmodels.stats.weightstats import _tconfint_generic"
   ]
  },
  {
   "cell_type": "markdown",
   "source": [
    "### В этом блоке проверяем гипотезу о том, что по утрам наблюдается всплеск в спреде. "
   ],
   "metadata": {
    "collapsed": false
   },
   "id": "1b52755ac781974e"
  },
  {
   "cell_type": "markdown",
   "source": [
    "Начнем с того что просто посмотрим на то как выглядят спреды разных бирж в зависимости от времени.\n",
    "Можно легко заметить что в начале дня в промежутке между 6 и 7 утра визуально наблюдается всплеск в спредах.\n",
    "По всей видимости именно он и является причиной поставленного эксперимента."
   ],
   "metadata": {
    "collapsed": false
   },
   "id": "952a2863b680896a"
  },
  {
   "cell_type": "code",
   "execution_count": null,
   "outputs": [],
   "source": [],
   "metadata": {
    "collapsed": false
   },
   "id": "6fdd350f589838e0"
  },
  {
   "cell_type": "markdown",
   "source": [
    "Также мы знаем что среднее значение спреда является положительным, а значит мы должны иметь распределение со средним находящимся справа от нуля. Также следует отметить что невозможна ситуация при которой дельта в спреде меньше 0, а значит мы работаем с распределением ограниченным нулем слева. Интерес представляет посмотреть на форму распределений у спредов в течение дня для различных бирж. Для того чтобы визуализировать распределения стоит построить гистограммы."
   ],
   "metadata": {
    "collapsed": false
   },
   "id": "f44ecf655d55a413"
  },
  {
   "cell_type": "code",
   "execution_count": null,
   "outputs": [],
   "source": [],
   "metadata": {
    "collapsed": false
   },
   "id": "5beea6c189e0b3ef"
  },
  {
   "cell_type": "markdown",
   "source": [
    "Так как видно, что средние значения спредов отличаются для каждого из рынков, весьма логичным действием является осуществление первичной предобработки данных. Для этого воспользуемся стандартным обработчиком из sklearn  "
   ],
   "metadata": {
    "collapsed": false
   },
   "id": "b05a8ece06f900"
  },
  {
   "cell_type": "code",
   "execution_count": null,
   "outputs": [],
   "source": [],
   "metadata": {
    "collapsed": false
   },
   "id": "528ed31888f9cb77"
  },
  {
   "cell_type": "markdown",
   "source": [],
   "metadata": {
    "collapsed": false
   },
   "id": "4f5e53ff9d8c0981"
  },
  {
   "cell_type": "markdown",
   "source": [
    "Построим аналог BBands, где в качестве верхнего и нижнего уровня будут выступать границы доверительных интервалов. \n",
    "Таким образом нам удастся посмотреть на динамику изменения доверительных интервалов на всем временном промежутке.\n",
    "\n",
    "Тут важно заметить что мы не знаем теоретическую дисперсию $\\sigma_{C, B, ...}}$, поэтому корректней будет использовать t-интервал (использование выборочных дисперсий). Для такого случая доверительные интервалы примут вид\n",
    "\n",
    "\n",
    "$$\\hat{X_t} \\pm t_{1 - \\frac{\\alpha}{2}}\\frac{S}{\\sqrt{n}}$$.\n",
    "\n",
    "Чтобы самому это не писать, используем statsmodels"
   ],
   "metadata": {
    "collapsed": false
   },
   "id": "1685e73588343d6a"
  },
  {
   "cell_type": "code",
   "execution_count": 50,
   "outputs": [
    {
     "data": {
      "text/plain": "                     0  interval_left  interval_right\n2013-01-01 09:00:00  1            NaN             NaN\n2013-01-01 09:00:01  1            1.0             1.0\n2013-01-01 09:00:02  1            1.0             1.0\n2013-01-01 09:00:03  1            1.0             1.0\n2013-01-01 09:00:04  1            1.0             1.0\n2013-01-01 09:00:05  1            1.0             1.0\n2013-01-01 09:00:06  1            1.0             1.0\n2013-01-01 09:00:07  1            1.0             1.0\n2013-01-01 09:00:08  1            1.0             1.0\n2013-01-01 09:00:09  1            1.0             1.0\n2013-01-01 09:00:10  1            1.0             1.0\n2013-01-01 09:00:11  1            1.0             1.0\n2013-01-01 09:00:12  1            1.0             1.0\n2013-01-01 09:00:13  1            1.0             1.0\n2013-01-01 09:00:14  1            1.0             1.0\n2013-01-01 09:00:15  1            1.0             1.0\n2013-01-01 09:00:16  1            1.0             1.0\n2013-01-01 09:00:17  1            1.0             1.0\n2013-01-01 09:00:18  1            1.0             1.0\n2013-01-01 09:00:19  1            1.0             1.0\n2013-01-01 09:00:20  1            1.0             1.0\n2013-01-01 09:00:21  1            1.0             1.0\n2013-01-01 09:00:22  1            1.0             1.0\n2013-01-01 09:00:23  1            1.0             1.0\n2013-01-01 09:00:24  1            1.0             1.0\n2013-01-01 09:00:25  1            1.0             1.0\n2013-01-01 09:00:26  1            1.0             1.0\n2013-01-01 09:00:27  1            1.0             1.0\n2013-01-01 09:00:28  1            1.0             1.0\n2013-01-01 09:00:29  1            1.0             1.0\n2013-01-01 09:00:30  1            1.0             1.0\n2013-01-01 09:00:31  1            1.0             1.0\n2013-01-01 09:00:32  1            1.0             1.0\n2013-01-01 09:00:33  1            1.0             1.0\n2013-01-01 09:00:34  1            1.0             1.0\n2013-01-01 09:00:35  1            1.0             1.0\n2013-01-01 09:00:36  1            1.0             1.0\n2013-01-01 09:00:37  1            1.0             1.0\n2013-01-01 09:00:38  1            1.0             1.0\n2013-01-01 09:00:39  1            1.0             1.0",
      "text/html": "<div>\n<style scoped>\n    .dataframe tbody tr th:only-of-type {\n        vertical-align: middle;\n    }\n\n    .dataframe tbody tr th {\n        vertical-align: top;\n    }\n\n    .dataframe thead th {\n        text-align: right;\n    }\n</style>\n<table border=\"1\" class=\"dataframe\">\n  <thead>\n    <tr style=\"text-align: right;\">\n      <th></th>\n      <th>0</th>\n      <th>interval_left</th>\n      <th>interval_right</th>\n    </tr>\n  </thead>\n  <tbody>\n    <tr>\n      <th>2013-01-01 09:00:00</th>\n      <td>1</td>\n      <td>NaN</td>\n      <td>NaN</td>\n    </tr>\n    <tr>\n      <th>2013-01-01 09:00:01</th>\n      <td>1</td>\n      <td>1.0</td>\n      <td>1.0</td>\n    </tr>\n    <tr>\n      <th>2013-01-01 09:00:02</th>\n      <td>1</td>\n      <td>1.0</td>\n      <td>1.0</td>\n    </tr>\n    <tr>\n      <th>2013-01-01 09:00:03</th>\n      <td>1</td>\n      <td>1.0</td>\n      <td>1.0</td>\n    </tr>\n    <tr>\n      <th>2013-01-01 09:00:04</th>\n      <td>1</td>\n      <td>1.0</td>\n      <td>1.0</td>\n    </tr>\n    <tr>\n      <th>2013-01-01 09:00:05</th>\n      <td>1</td>\n      <td>1.0</td>\n      <td>1.0</td>\n    </tr>\n    <tr>\n      <th>2013-01-01 09:00:06</th>\n      <td>1</td>\n      <td>1.0</td>\n      <td>1.0</td>\n    </tr>\n    <tr>\n      <th>2013-01-01 09:00:07</th>\n      <td>1</td>\n      <td>1.0</td>\n      <td>1.0</td>\n    </tr>\n    <tr>\n      <th>2013-01-01 09:00:08</th>\n      <td>1</td>\n      <td>1.0</td>\n      <td>1.0</td>\n    </tr>\n    <tr>\n      <th>2013-01-01 09:00:09</th>\n      <td>1</td>\n      <td>1.0</td>\n      <td>1.0</td>\n    </tr>\n    <tr>\n      <th>2013-01-01 09:00:10</th>\n      <td>1</td>\n      <td>1.0</td>\n      <td>1.0</td>\n    </tr>\n    <tr>\n      <th>2013-01-01 09:00:11</th>\n      <td>1</td>\n      <td>1.0</td>\n      <td>1.0</td>\n    </tr>\n    <tr>\n      <th>2013-01-01 09:00:12</th>\n      <td>1</td>\n      <td>1.0</td>\n      <td>1.0</td>\n    </tr>\n    <tr>\n      <th>2013-01-01 09:00:13</th>\n      <td>1</td>\n      <td>1.0</td>\n      <td>1.0</td>\n    </tr>\n    <tr>\n      <th>2013-01-01 09:00:14</th>\n      <td>1</td>\n      <td>1.0</td>\n      <td>1.0</td>\n    </tr>\n    <tr>\n      <th>2013-01-01 09:00:15</th>\n      <td>1</td>\n      <td>1.0</td>\n      <td>1.0</td>\n    </tr>\n    <tr>\n      <th>2013-01-01 09:00:16</th>\n      <td>1</td>\n      <td>1.0</td>\n      <td>1.0</td>\n    </tr>\n    <tr>\n      <th>2013-01-01 09:00:17</th>\n      <td>1</td>\n      <td>1.0</td>\n      <td>1.0</td>\n    </tr>\n    <tr>\n      <th>2013-01-01 09:00:18</th>\n      <td>1</td>\n      <td>1.0</td>\n      <td>1.0</td>\n    </tr>\n    <tr>\n      <th>2013-01-01 09:00:19</th>\n      <td>1</td>\n      <td>1.0</td>\n      <td>1.0</td>\n    </tr>\n    <tr>\n      <th>2013-01-01 09:00:20</th>\n      <td>1</td>\n      <td>1.0</td>\n      <td>1.0</td>\n    </tr>\n    <tr>\n      <th>2013-01-01 09:00:21</th>\n      <td>1</td>\n      <td>1.0</td>\n      <td>1.0</td>\n    </tr>\n    <tr>\n      <th>2013-01-01 09:00:22</th>\n      <td>1</td>\n      <td>1.0</td>\n      <td>1.0</td>\n    </tr>\n    <tr>\n      <th>2013-01-01 09:00:23</th>\n      <td>1</td>\n      <td>1.0</td>\n      <td>1.0</td>\n    </tr>\n    <tr>\n      <th>2013-01-01 09:00:24</th>\n      <td>1</td>\n      <td>1.0</td>\n      <td>1.0</td>\n    </tr>\n    <tr>\n      <th>2013-01-01 09:00:25</th>\n      <td>1</td>\n      <td>1.0</td>\n      <td>1.0</td>\n    </tr>\n    <tr>\n      <th>2013-01-01 09:00:26</th>\n      <td>1</td>\n      <td>1.0</td>\n      <td>1.0</td>\n    </tr>\n    <tr>\n      <th>2013-01-01 09:00:27</th>\n      <td>1</td>\n      <td>1.0</td>\n      <td>1.0</td>\n    </tr>\n    <tr>\n      <th>2013-01-01 09:00:28</th>\n      <td>1</td>\n      <td>1.0</td>\n      <td>1.0</td>\n    </tr>\n    <tr>\n      <th>2013-01-01 09:00:29</th>\n      <td>1</td>\n      <td>1.0</td>\n      <td>1.0</td>\n    </tr>\n    <tr>\n      <th>2013-01-01 09:00:30</th>\n      <td>1</td>\n      <td>1.0</td>\n      <td>1.0</td>\n    </tr>\n    <tr>\n      <th>2013-01-01 09:00:31</th>\n      <td>1</td>\n      <td>1.0</td>\n      <td>1.0</td>\n    </tr>\n    <tr>\n      <th>2013-01-01 09:00:32</th>\n      <td>1</td>\n      <td>1.0</td>\n      <td>1.0</td>\n    </tr>\n    <tr>\n      <th>2013-01-01 09:00:33</th>\n      <td>1</td>\n      <td>1.0</td>\n      <td>1.0</td>\n    </tr>\n    <tr>\n      <th>2013-01-01 09:00:34</th>\n      <td>1</td>\n      <td>1.0</td>\n      <td>1.0</td>\n    </tr>\n    <tr>\n      <th>2013-01-01 09:00:35</th>\n      <td>1</td>\n      <td>1.0</td>\n      <td>1.0</td>\n    </tr>\n    <tr>\n      <th>2013-01-01 09:00:36</th>\n      <td>1</td>\n      <td>1.0</td>\n      <td>1.0</td>\n    </tr>\n    <tr>\n      <th>2013-01-01 09:00:37</th>\n      <td>1</td>\n      <td>1.0</td>\n      <td>1.0</td>\n    </tr>\n    <tr>\n      <th>2013-01-01 09:00:38</th>\n      <td>1</td>\n      <td>1.0</td>\n      <td>1.0</td>\n    </tr>\n    <tr>\n      <th>2013-01-01 09:00:39</th>\n      <td>1</td>\n      <td>1.0</td>\n      <td>1.0</td>\n    </tr>\n  </tbody>\n</table>\n</div>"
     },
     "execution_count": 50,
     "metadata": {},
     "output_type": "execute_result"
    }
   ],
   "source": [
    "def create_bb_analog(observations: pd.Series, window_size_sec: int = 10, alpha=0.05):\n",
    "    def apply_interval_to_window(ser: pd.Series):\n",
    "        mean_value = ser.mean()\n",
    "        std_value = ser.std(ddof=1)/np.sqrt(len(ser))\n",
    "        return  _tconfint_generic(mean_value, std_value, len(ser) - 1, alpha, 'two-sided')\n",
    "    intervals = pd.DataFrame([apply_interval_to_window(window) for window in observations.rolling(f'{window_size_sec}s')])\n",
    "    intervals.columns = [\"interval_left\", \"interval_right\"]\n",
    "    intervals.index = observations.index\n",
    "    return pd.concat([observations, intervals], axis=1)\n",
    "\n",
    "\n",
    "\n",
    "test_NUM = 40\n",
    "test_series = pd.Series([1] * test_NUM, index=[pd.Timestamp(f'20130101 09:00:{_ if _ >=10 else f\"0{_}\"}') for _ in range(test_NUM)])\n",
    "create_bb_analog(observations=test_series, window_size_sec=3)"
   ],
   "metadata": {
    "collapsed": false,
    "ExecuteTime": {
     "end_time": "2023-12-13T00:08:41.548325Z",
     "start_time": "2023-12-13T00:08:41.536237Z"
    }
   },
   "id": "1f3f002e442a2ed9"
  },
  {
   "cell_type": "markdown",
   "source": [
    "## Проверка на нормальность распределения разницы между максимальными и минимальными ценами"
   ],
   "metadata": {
    "collapsed": false
   },
   "id": "f54639ef9ca16c7c"
  },
  {
   "cell_type": "markdown",
   "source": [],
   "metadata": {
    "collapsed": false
   },
   "id": "60b4a0f080b7fbf2"
  }
 ],
 "metadata": {
  "kernelspec": {
   "display_name": "Python 3",
   "language": "python",
   "name": "python3"
  },
  "language_info": {
   "codemirror_mode": {
    "name": "ipython",
    "version": 2
   },
   "file_extension": ".py",
   "mimetype": "text/x-python",
   "name": "python",
   "nbconvert_exporter": "python",
   "pygments_lexer": "ipython2",
   "version": "2.7.6"
  }
 },
 "nbformat": 4,
 "nbformat_minor": 5
}
